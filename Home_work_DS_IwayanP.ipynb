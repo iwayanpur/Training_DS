{
 "cells": [
  {
   "cell_type": "code",
   "execution_count": 1,
   "metadata": {},
   "outputs": [],
   "source": [
    "import pandas as pd\n",
    "import numpy as np"
   ]
  },
  {
   "cell_type": "code",
   "execution_count": 2,
   "metadata": {},
   "outputs": [],
   "source": [
    "google_play_apps = pd.read_csv(\"D:\\E-Doc\\Training Data Science\\DSA Telkomsel\\Home Work\\googleplaystore.csv\", encoding='latin1')"
   ]
  },
  {
   "cell_type": "markdown",
   "metadata": {},
   "source": [
    "# Question 1"
   ]
  },
  {
   "cell_type": "code",
   "execution_count": 3,
   "metadata": {},
   "outputs": [
    {
     "name": "stdout",
     "output_type": "stream",
     "text": [
      "kolom: 13\n",
      "baris: 10841\n"
     ]
    }
   ],
   "source": [
    "#column\n",
    "print(\"kolom:\",len(google_play_apps.columns))\n",
    "#row\n",
    "print(\"baris:\",len(google_play_apps))"
   ]
  },
  {
   "cell_type": "markdown",
   "metadata": {},
   "source": [
    "# Question 2\n",
    "<br> How many unique apps categories reflected in the dataset? \n"
   ]
  },
  {
   "cell_type": "code",
   "execution_count": 5,
   "metadata": {},
   "outputs": [
    {
     "name": "stdout",
     "output_type": "stream",
     "text": [
      "Uniq_Category 34\n"
     ]
    }
   ],
   "source": [
    "category=pd.DataFrame(google_play_apps[\"Category\"])\n",
    "print(\"Uniq_Category\",len(category.drop_duplicates(subset='Category', inplace=False)))"
   ]
  },
  {
   "cell_type": "markdown",
   "metadata": {},
   "source": [
    "# Question 3\n",
    "<br> How many unique genres according to the dataset?"
   ]
  },
  {
   "cell_type": "code",
   "execution_count": 7,
   "metadata": {},
   "outputs": [
    {
     "name": "stdout",
     "output_type": "stream",
     "text": [
      "Uniq_Genres 120\n"
     ]
    }
   ],
   "source": [
    "genres=pd.DataFrame(google_play_apps[\"Genres\"])\n",
    "print(\"Uniq_Genres\",len(genres.drop_duplicates(subset='Genres', inplace=False)))"
   ]
  },
  {
   "cell_type": "markdown",
   "metadata": {},
   "source": [
    "# Question 4\n",
    "<br> Which code is appropriate to drop duplicate values in 'App' column and remove its rows in Python?  Assume dataset was loaded as a pandas data frame variable: google_play_apps."
   ]
  },
  {
   "cell_type": "code",
   "execution_count": 10,
   "metadata": {},
   "outputs": [
    {
     "data": {
      "text/html": [
       "<div>\n",
       "<style scoped>\n",
       "    .dataframe tbody tr th:only-of-type {\n",
       "        vertical-align: middle;\n",
       "    }\n",
       "\n",
       "    .dataframe tbody tr th {\n",
       "        vertical-align: top;\n",
       "    }\n",
       "\n",
       "    .dataframe thead th {\n",
       "        text-align: right;\n",
       "    }\n",
       "</style>\n",
       "<table border=\"1\" class=\"dataframe\">\n",
       "  <thead>\n",
       "    <tr style=\"text-align: right;\">\n",
       "      <th></th>\n",
       "      <th>App</th>\n",
       "      <th>Category</th>\n",
       "      <th>Rating</th>\n",
       "      <th>Reviews</th>\n",
       "      <th>Size</th>\n",
       "      <th>Installs</th>\n",
       "      <th>Type</th>\n",
       "      <th>Price</th>\n",
       "      <th>Content Rating</th>\n",
       "      <th>Genres</th>\n",
       "      <th>Last Updated</th>\n",
       "      <th>Current Ver</th>\n",
       "      <th>Android Ver</th>\n",
       "    </tr>\n",
       "  </thead>\n",
       "  <tbody>\n",
       "    <tr>\n",
       "      <td>0</td>\n",
       "      <td>Photo Editor &amp; Candy Camera &amp; Grid &amp; ScrapBook</td>\n",
       "      <td>ART_AND_DESIGN</td>\n",
       "      <td>4.1</td>\n",
       "      <td>159</td>\n",
       "      <td>19M</td>\n",
       "      <td>10,000+</td>\n",
       "      <td>Free</td>\n",
       "      <td>0</td>\n",
       "      <td>Everyone</td>\n",
       "      <td>Art &amp; Design</td>\n",
       "      <td>January 7, 2018</td>\n",
       "      <td>1.0.0</td>\n",
       "      <td>4.0.3 and up</td>\n",
       "    </tr>\n",
       "    <tr>\n",
       "      <td>1</td>\n",
       "      <td>Coloring book moana</td>\n",
       "      <td>ART_AND_DESIGN</td>\n",
       "      <td>3.9</td>\n",
       "      <td>967</td>\n",
       "      <td>14M</td>\n",
       "      <td>500,000+</td>\n",
       "      <td>Free</td>\n",
       "      <td>0</td>\n",
       "      <td>Everyone</td>\n",
       "      <td>Art &amp; Design;Pretend Play</td>\n",
       "      <td>January 15, 2018</td>\n",
       "      <td>2.0.0</td>\n",
       "      <td>4.0.3 and up</td>\n",
       "    </tr>\n",
       "    <tr>\n",
       "      <td>2</td>\n",
       "      <td>U Launcher Lite â FREE Live Cool Themes, Hid...</td>\n",
       "      <td>ART_AND_DESIGN</td>\n",
       "      <td>4.7</td>\n",
       "      <td>87510</td>\n",
       "      <td>8.7M</td>\n",
       "      <td>5,000,000+</td>\n",
       "      <td>Free</td>\n",
       "      <td>0</td>\n",
       "      <td>Everyone</td>\n",
       "      <td>Art &amp; Design</td>\n",
       "      <td>August 1, 2018</td>\n",
       "      <td>1.2.4</td>\n",
       "      <td>4.0.3 and up</td>\n",
       "    </tr>\n",
       "    <tr>\n",
       "      <td>3</td>\n",
       "      <td>Sketch - Draw &amp; Paint</td>\n",
       "      <td>ART_AND_DESIGN</td>\n",
       "      <td>4.5</td>\n",
       "      <td>215644</td>\n",
       "      <td>25M</td>\n",
       "      <td>50,000,000+</td>\n",
       "      <td>Free</td>\n",
       "      <td>0</td>\n",
       "      <td>Teen</td>\n",
       "      <td>Art &amp; Design</td>\n",
       "      <td>June 8, 2018</td>\n",
       "      <td>Varies with device</td>\n",
       "      <td>4.2 and up</td>\n",
       "    </tr>\n",
       "    <tr>\n",
       "      <td>4</td>\n",
       "      <td>Pixel Draw - Number Art Coloring Book</td>\n",
       "      <td>ART_AND_DESIGN</td>\n",
       "      <td>4.3</td>\n",
       "      <td>967</td>\n",
       "      <td>2.8M</td>\n",
       "      <td>100,000+</td>\n",
       "      <td>Free</td>\n",
       "      <td>0</td>\n",
       "      <td>Everyone</td>\n",
       "      <td>Art &amp; Design;Creativity</td>\n",
       "      <td>June 20, 2018</td>\n",
       "      <td>1.1</td>\n",
       "      <td>4.4 and up</td>\n",
       "    </tr>\n",
       "    <tr>\n",
       "      <td>...</td>\n",
       "      <td>...</td>\n",
       "      <td>...</td>\n",
       "      <td>...</td>\n",
       "      <td>...</td>\n",
       "      <td>...</td>\n",
       "      <td>...</td>\n",
       "      <td>...</td>\n",
       "      <td>...</td>\n",
       "      <td>...</td>\n",
       "      <td>...</td>\n",
       "      <td>...</td>\n",
       "      <td>...</td>\n",
       "      <td>...</td>\n",
       "    </tr>\n",
       "    <tr>\n",
       "      <td>10836</td>\n",
       "      <td>Sya9a Maroc - FR</td>\n",
       "      <td>FAMILY</td>\n",
       "      <td>4.5</td>\n",
       "      <td>38</td>\n",
       "      <td>53M</td>\n",
       "      <td>5,000+</td>\n",
       "      <td>Free</td>\n",
       "      <td>0</td>\n",
       "      <td>Everyone</td>\n",
       "      <td>Education</td>\n",
       "      <td>July 25, 2017</td>\n",
       "      <td>1.48</td>\n",
       "      <td>4.1 and up</td>\n",
       "    </tr>\n",
       "    <tr>\n",
       "      <td>10837</td>\n",
       "      <td>Fr. Mike Schmitz Audio Teachings</td>\n",
       "      <td>FAMILY</td>\n",
       "      <td>5.0</td>\n",
       "      <td>4</td>\n",
       "      <td>3.6M</td>\n",
       "      <td>100+</td>\n",
       "      <td>Free</td>\n",
       "      <td>0</td>\n",
       "      <td>Everyone</td>\n",
       "      <td>Education</td>\n",
       "      <td>July 6, 2018</td>\n",
       "      <td>1.0</td>\n",
       "      <td>4.1 and up</td>\n",
       "    </tr>\n",
       "    <tr>\n",
       "      <td>10838</td>\n",
       "      <td>Parkinson Exercices FR</td>\n",
       "      <td>MEDICAL</td>\n",
       "      <td>NaN</td>\n",
       "      <td>3</td>\n",
       "      <td>9.5M</td>\n",
       "      <td>1,000+</td>\n",
       "      <td>Free</td>\n",
       "      <td>0</td>\n",
       "      <td>Everyone</td>\n",
       "      <td>Medical</td>\n",
       "      <td>January 20, 2017</td>\n",
       "      <td>1.0</td>\n",
       "      <td>2.2 and up</td>\n",
       "    </tr>\n",
       "    <tr>\n",
       "      <td>10839</td>\n",
       "      <td>The SCP Foundation DB fr nn5n</td>\n",
       "      <td>BOOKS_AND_REFERENCE</td>\n",
       "      <td>4.5</td>\n",
       "      <td>114</td>\n",
       "      <td>Varies with device</td>\n",
       "      <td>1,000+</td>\n",
       "      <td>Free</td>\n",
       "      <td>0</td>\n",
       "      <td>Mature 17+</td>\n",
       "      <td>Books &amp; Reference</td>\n",
       "      <td>January 19, 2015</td>\n",
       "      <td>Varies with device</td>\n",
       "      <td>Varies with device</td>\n",
       "    </tr>\n",
       "    <tr>\n",
       "      <td>10840</td>\n",
       "      <td>iHoroscope - 2018 Daily Horoscope &amp; Astrology</td>\n",
       "      <td>LIFESTYLE</td>\n",
       "      <td>4.5</td>\n",
       "      <td>398307</td>\n",
       "      <td>19M</td>\n",
       "      <td>10,000,000+</td>\n",
       "      <td>Free</td>\n",
       "      <td>0</td>\n",
       "      <td>Everyone</td>\n",
       "      <td>Lifestyle</td>\n",
       "      <td>July 25, 2018</td>\n",
       "      <td>Varies with device</td>\n",
       "      <td>Varies with device</td>\n",
       "    </tr>\n",
       "  </tbody>\n",
       "</table>\n",
       "<p>9660 rows × 13 columns</p>\n",
       "</div>"
      ],
      "text/plain": [
       "                                                     App             Category  \\\n",
       "0         Photo Editor & Candy Camera & Grid & ScrapBook       ART_AND_DESIGN   \n",
       "1                                    Coloring book moana       ART_AND_DESIGN   \n",
       "2      U Launcher Lite â FREE Live Cool Themes, Hid...       ART_AND_DESIGN   \n",
       "3                                  Sketch - Draw & Paint       ART_AND_DESIGN   \n",
       "4                  Pixel Draw - Number Art Coloring Book       ART_AND_DESIGN   \n",
       "...                                                  ...                  ...   \n",
       "10836                                   Sya9a Maroc - FR               FAMILY   \n",
       "10837                   Fr. Mike Schmitz Audio Teachings               FAMILY   \n",
       "10838                             Parkinson Exercices FR              MEDICAL   \n",
       "10839                      The SCP Foundation DB fr nn5n  BOOKS_AND_REFERENCE   \n",
       "10840      iHoroscope - 2018 Daily Horoscope & Astrology            LIFESTYLE   \n",
       "\n",
       "       Rating Reviews                Size     Installs  Type Price  \\\n",
       "0         4.1     159                 19M      10,000+  Free     0   \n",
       "1         3.9     967                 14M     500,000+  Free     0   \n",
       "2         4.7   87510                8.7M   5,000,000+  Free     0   \n",
       "3         4.5  215644                 25M  50,000,000+  Free     0   \n",
       "4         4.3     967                2.8M     100,000+  Free     0   \n",
       "...       ...     ...                 ...          ...   ...   ...   \n",
       "10836     4.5      38                 53M       5,000+  Free     0   \n",
       "10837     5.0       4                3.6M         100+  Free     0   \n",
       "10838     NaN       3                9.5M       1,000+  Free     0   \n",
       "10839     4.5     114  Varies with device       1,000+  Free     0   \n",
       "10840     4.5  398307                 19M  10,000,000+  Free     0   \n",
       "\n",
       "      Content Rating                     Genres      Last Updated  \\\n",
       "0           Everyone               Art & Design   January 7, 2018   \n",
       "1           Everyone  Art & Design;Pretend Play  January 15, 2018   \n",
       "2           Everyone               Art & Design    August 1, 2018   \n",
       "3               Teen               Art & Design      June 8, 2018   \n",
       "4           Everyone    Art & Design;Creativity     June 20, 2018   \n",
       "...              ...                        ...               ...   \n",
       "10836       Everyone                  Education     July 25, 2017   \n",
       "10837       Everyone                  Education      July 6, 2018   \n",
       "10838       Everyone                    Medical  January 20, 2017   \n",
       "10839     Mature 17+          Books & Reference  January 19, 2015   \n",
       "10840       Everyone                  Lifestyle     July 25, 2018   \n",
       "\n",
       "              Current Ver         Android Ver  \n",
       "0                   1.0.0        4.0.3 and up  \n",
       "1                   2.0.0        4.0.3 and up  \n",
       "2                   1.2.4        4.0.3 and up  \n",
       "3      Varies with device          4.2 and up  \n",
       "4                     1.1          4.4 and up  \n",
       "...                   ...                 ...  \n",
       "10836                1.48          4.1 and up  \n",
       "10837                 1.0          4.1 and up  \n",
       "10838                 1.0          2.2 and up  \n",
       "10839  Varies with device  Varies with device  \n",
       "10840  Varies with device  Varies with device  \n",
       "\n",
       "[9660 rows x 13 columns]"
      ]
     },
     "execution_count": 10,
     "metadata": {},
     "output_type": "execute_result"
    }
   ],
   "source": [
    "google_play_apps.drop_duplicates(subset='App', inplace=False)"
   ]
  },
  {
   "cell_type": "markdown",
   "metadata": {},
   "source": [
    "# Question 5\n",
    "<br> If you want to remove character '+' in column 'Installs', you can run the following codes in Python."
   ]
  },
  {
   "cell_type": "code",
   "execution_count": 12,
   "metadata": {},
   "outputs": [
    {
     "data": {
      "text/html": [
       "<div>\n",
       "<style scoped>\n",
       "    .dataframe tbody tr th:only-of-type {\n",
       "        vertical-align: middle;\n",
       "    }\n",
       "\n",
       "    .dataframe tbody tr th {\n",
       "        vertical-align: top;\n",
       "    }\n",
       "\n",
       "    .dataframe thead th {\n",
       "        text-align: right;\n",
       "    }\n",
       "</style>\n",
       "<table border=\"1\" class=\"dataframe\">\n",
       "  <thead>\n",
       "    <tr style=\"text-align: right;\">\n",
       "      <th></th>\n",
       "      <th>App</th>\n",
       "      <th>Category</th>\n",
       "      <th>Rating</th>\n",
       "      <th>Reviews</th>\n",
       "      <th>Size</th>\n",
       "      <th>Installs</th>\n",
       "      <th>Type</th>\n",
       "      <th>Price</th>\n",
       "      <th>Content Rating</th>\n",
       "      <th>Genres</th>\n",
       "      <th>Last Updated</th>\n",
       "      <th>Current Ver</th>\n",
       "      <th>Android Ver</th>\n",
       "    </tr>\n",
       "  </thead>\n",
       "  <tbody>\n",
       "    <tr>\n",
       "      <td>10472</td>\n",
       "      <td>Life Made WI-Fi Touchscreen Photo Frame</td>\n",
       "      <td>1.9</td>\n",
       "      <td>19.0</td>\n",
       "      <td>3.0M</td>\n",
       "      <td>1,000+</td>\n",
       "      <td>Free</td>\n",
       "      <td>0</td>\n",
       "      <td>Everyone</td>\n",
       "      <td>NaN</td>\n",
       "      <td>February 11, 2018</td>\n",
       "      <td>1.0.19</td>\n",
       "      <td>4.0 and up</td>\n",
       "      <td>NaN</td>\n",
       "    </tr>\n",
       "  </tbody>\n",
       "</table>\n",
       "</div>"
      ],
      "text/plain": [
       "                                           App Category  Rating Reviews  \\\n",
       "10472  Life Made WI-Fi Touchscreen Photo Frame      1.9    19.0    3.0M   \n",
       "\n",
       "         Size Installs Type     Price Content Rating             Genres  \\\n",
       "10472  1,000+     Free    0  Everyone            NaN  February 11, 2018   \n",
       "\n",
       "      Last Updated Current Ver Android Ver  \n",
       "10472       1.0.19  4.0 and up         NaN  "
      ]
     },
     "execution_count": 12,
     "metadata": {},
     "output_type": "execute_result"
    }
   ],
   "source": [
    "google_play_apps[google_play_apps['Installs']=='Free']"
   ]
  },
  {
   "cell_type": "code",
   "execution_count": 13,
   "metadata": {},
   "outputs": [],
   "source": [
    "google_play_apps = google_play_apps[google_play_apps['Installs'] != 'Free']"
   ]
  },
  {
   "cell_type": "code",
   "execution_count": 17,
   "metadata": {},
   "outputs": [
    {
     "data": {
      "text/plain": [
       "0       10000\n",
       "1      500000\n",
       "2     5000000\n",
       "3    50000000\n",
       "4      100000\n",
       "Name: Installs, dtype: object"
      ]
     },
     "execution_count": 17,
     "metadata": {},
     "output_type": "execute_result"
    }
   ],
   "source": [
    "google_play_apps['Installs'] = google_play_apps['Installs'] .apply(lambda x: x.replace('+', '') if '+' in str(x) else x)\n",
    "google_play_apps['Installs']=google_play_apps['Installs'] .apply(lambda x: x.replace(',', '') if ',' in str(x) else x)\n",
    "google_play_apps['Installs'].head ()"
   ]
  },
  {
   "cell_type": "markdown",
   "metadata": {},
   "source": [
    "* No '+' and ',' on output"
   ]
  },
  {
   "cell_type": "markdown",
   "metadata": {},
   "source": [
    "# Question 6\n",
    "<br> If you want to convert data type of 'Installs' columns into integer, you can run the following code. "
   ]
  },
  {
   "cell_type": "code",
   "execution_count": 21,
   "metadata": {},
   "outputs": [
    {
     "data": {
      "text/plain": [
       "0       10000\n",
       "1      500000\n",
       "2     5000000\n",
       "3    50000000\n",
       "4      100000\n",
       "Name: Installs, dtype: int32"
      ]
     },
     "execution_count": 21,
     "metadata": {},
     "output_type": "execute_result"
    }
   ],
   "source": [
    "google_play_apps['Installs']=google_play_apps['Installs'].astype(int)\n",
    "google_play_apps['Installs'].head()"
   ]
  },
  {
   "cell_type": "markdown",
   "metadata": {},
   "source": [
    "* Data Type is Integer 32"
   ]
  },
  {
   "cell_type": "markdown",
   "metadata": {},
   "source": [
    "# Question 7\n",
    "<br> Match Apps and Category based on provided dataset! "
   ]
  },
  {
   "cell_type": "code",
   "execution_count": 23,
   "metadata": {},
   "outputs": [
    {
     "name": "stdout",
     "output_type": "stream",
     "text": [
      "          App      Category\n",
      "3473  Dropbox  PRODUCTIVITY\n",
      "                 App Category\n",
      "1654  Subway Surfers     GAME\n",
      "                                          App  Category\n",
      "10253  File Commander - File Manager/Explorer  BUSINESS\n",
      "                    App       Category\n",
      "336  WhatsApp Messenger  COMMUNICATION\n",
      "            App Category\n",
      "2552  Pinterest   SOCIAL\n",
      "                               App            Category\n",
      "3755  Flipboard: News For Our Time  NEWS_AND_MAGAZINES\n",
      "              App Category\n",
      "8445  FIFA Soccer   SPORTS\n",
      "                                                    App Category\n",
      "8896  DU Battery Saver - Battery Charger & Battery Life    TOOLS\n"
     ]
    }
   ],
   "source": [
    "Applications=['Dropbox', 'Subway Surfers', 'File Commander - File Manager/Explorer', 'WhatsApp Messenger', 'Pinterest', 'Flipboard: News For Our Time', 'FIFA Soccer', 'DU Battery Saver - Battery Charger & Battery Life']\n",
    "for Application in Applications:\n",
    " App=google_play_apps[google_play_apps['App']==Application]\n",
    " print (App[['App','Category']].drop_duplicates())\n",
    " "
   ]
  },
  {
   "cell_type": "markdown",
   "metadata": {},
   "source": [
    "# Question 8\n",
    "applications were installed by more than 1 billion users, EXCEPT "
   ]
  },
  {
   "cell_type": "code",
   "execution_count": 24,
   "metadata": {},
   "outputs": [
    {
     "name": "stdout",
     "output_type": "stream",
     "text": [
      "                    App    Installs\n",
      "336  WhatsApp Messenger  1000000000\n",
      "                                       App   Installs\n",
      "371  Google Duo - High Quality Video Calls  500000000\n",
      "           App    Installs\n",
      "2544  Facebook  1000000000\n",
      "Empty DataFrame\n",
      "Columns: [App, Installs]\n",
      "Index: []\n"
     ]
    }
   ],
   "source": [
    "highs=['WhatsApp Messenger', 'Google Duo - High Quality Video Calls', 'Facebook', 'Skype']\n",
    "for a in highs:\n",
    " App=google_play_apps[google_play_apps['App']==a]\n",
    " print (App[['App','Installs']].drop_duplicates())"
   ]
  },
  {
   "cell_type": "markdown",
   "metadata": {},
   "source": [
    "* Google Duo - High Quality Video Calls is installed less then 1 billion (500,000,000)"
   ]
  },
  {
   "cell_type": "markdown",
   "metadata": {},
   "source": [
    "# Question 9\n",
    "<br> Arrange top COMMUNICATION category apps from the highest number of reviews to the lowest! \n",
    "<br>\n",
    "<br> App                            |Reviews\n",
    "* WhatsApp Messenger\t            138228988\n",
    "* Viber Messenger\t                45340508\n",
    "* BBM - Free Calls & Messages\t    25686296\n",
    "* LINE: Free Calls & Messages\t    21580381\n",
    "* Skype - free IM & video calls\t10484169"
   ]
  },
  {
   "cell_type": "code",
   "execution_count": 25,
   "metadata": {},
   "outputs": [],
   "source": [
    "google_play_apps['Reviews']=google_play_apps['Reviews'].astype(int)"
   ]
  },
  {
   "cell_type": "code",
   "execution_count": 27,
   "metadata": {},
   "outputs": [
    {
     "data": {
      "text/html": [
       "<div>\n",
       "<style scoped>\n",
       "    .dataframe tbody tr th:only-of-type {\n",
       "        vertical-align: middle;\n",
       "    }\n",
       "\n",
       "    .dataframe tbody tr th {\n",
       "        vertical-align: top;\n",
       "    }\n",
       "\n",
       "    .dataframe thead th {\n",
       "        text-align: right;\n",
       "    }\n",
       "</style>\n",
       "<table border=\"1\" class=\"dataframe\">\n",
       "  <thead>\n",
       "    <tr style=\"text-align: right;\">\n",
       "      <th></th>\n",
       "      <th>Reviews</th>\n",
       "    </tr>\n",
       "    <tr>\n",
       "      <th>App</th>\n",
       "      <th></th>\n",
       "    </tr>\n",
       "  </thead>\n",
       "  <tbody>\n",
       "    <tr>\n",
       "      <td>WhatsApp Messenger</td>\n",
       "      <td>207348304</td>\n",
       "    </tr>\n",
       "    <tr>\n",
       "      <td>Messenger â Text and Video Chat for Free</td>\n",
       "      <td>169932272</td>\n",
       "    </tr>\n",
       "    <tr>\n",
       "      <td>Viber Messenger</td>\n",
       "      <td>56675481</td>\n",
       "    </tr>\n",
       "    <tr>\n",
       "      <td>UC Browser - Fast Download Private &amp; Secure</td>\n",
       "      <td>53140694</td>\n",
       "    </tr>\n",
       "    <tr>\n",
       "      <td>LINE: Free Calls &amp; Messages</td>\n",
       "      <td>32370670</td>\n",
       "    </tr>\n",
       "    <tr>\n",
       "      <td>Skype - free IM &amp; video calls</td>\n",
       "      <td>31452507</td>\n",
       "    </tr>\n",
       "    <tr>\n",
       "      <td>Google Chrome: Fast &amp; Secure</td>\n",
       "      <td>28928148</td>\n",
       "    </tr>\n",
       "    <tr>\n",
       "      <td>BBM - Free Calls &amp; Messages</td>\n",
       "      <td>25686296</td>\n",
       "    </tr>\n",
       "    <tr>\n",
       "      <td>WeChat</td>\n",
       "      <td>21549856</td>\n",
       "    </tr>\n",
       "    <tr>\n",
       "      <td>imo free video calls and chat</td>\n",
       "      <td>19143760</td>\n",
       "    </tr>\n",
       "    <tr>\n",
       "      <td>Truecaller: Caller ID, SMS spam blocking &amp; Dialer</td>\n",
       "      <td>15640984</td>\n",
       "    </tr>\n",
       "    <tr>\n",
       "      <td>Opera Mini - fast web browser</td>\n",
       "      <td>15451126</td>\n",
       "    </tr>\n",
       "    <tr>\n",
       "      <td>Gmail</td>\n",
       "      <td>13813131</td>\n",
       "    </tr>\n",
       "    <tr>\n",
       "      <td>Hangouts</td>\n",
       "      <td>13677659</td>\n",
       "    </tr>\n",
       "    <tr>\n",
       "      <td>Yahoo Mail â Stay Organized</td>\n",
       "      <td>12564485</td>\n",
       "    </tr>\n",
       "    <tr>\n",
       "      <td>UC Browser Mini -Tiny Fast Private &amp; Secure</td>\n",
       "      <td>10945365</td>\n",
       "    </tr>\n",
       "    <tr>\n",
       "      <td>Telegram</td>\n",
       "      <td>9385370</td>\n",
       "    </tr>\n",
       "    <tr>\n",
       "      <td>Firefox Browser fast &amp; private</td>\n",
       "      <td>9225242</td>\n",
       "    </tr>\n",
       "    <tr>\n",
       "      <td>KakaoTalk: Free Calls &amp; Text</td>\n",
       "      <td>7639603</td>\n",
       "    </tr>\n",
       "    <tr>\n",
       "      <td>Opera Browser: Fast and Secure</td>\n",
       "      <td>7420997</td>\n",
       "    </tr>\n",
       "  </tbody>\n",
       "</table>\n",
       "</div>"
      ],
      "text/plain": [
       "                                                     Reviews\n",
       "App                                                         \n",
       "WhatsApp Messenger                                 207348304\n",
       "Messenger â Text and Video Chat for Free         169932272\n",
       "Viber Messenger                                     56675481\n",
       "UC Browser - Fast Download Private & Secure         53140694\n",
       "LINE: Free Calls & Messages                         32370670\n",
       "Skype - free IM & video calls                       31452507\n",
       "Google Chrome: Fast & Secure                        28928148\n",
       "BBM - Free Calls & Messages                         25686296\n",
       "WeChat                                              21549856\n",
       "imo free video calls and chat                       19143760\n",
       "Truecaller: Caller ID, SMS spam blocking & Dialer   15640984\n",
       "Opera Mini - fast web browser                       15451126\n",
       "Gmail                                               13813131\n",
       "Hangouts                                            13677659\n",
       "Yahoo Mail â Stay Organized                       12564485\n",
       "UC Browser Mini -Tiny Fast Private & Secure         10945365\n",
       "Telegram                                             9385370\n",
       "Firefox Browser fast & private                       9225242\n",
       "KakaoTalk: Free Calls & Text                         7639603\n",
       "Opera Browser: Fast and Secure                       7420997"
      ]
     },
     "execution_count": 27,
     "metadata": {},
     "output_type": "execute_result"
    }
   ],
   "source": [
    "top_reviews=google_play_apps[google_play_apps['Category']=='COMMUNICATION']\n",
    "top_reviews=top_reviews[['App','Reviews']]\n",
    "top_reviews.groupby('App').sum().sort_values('Reviews', ascending=False).head(20)"
   ]
  },
  {
   "cell_type": "markdown",
   "metadata": {},
   "source": [
    "# Question number 10\n",
    "<br>Arrange top 3 game category apps based on number of installed and rating!"
   ]
  },
  {
   "cell_type": "code",
   "execution_count": 28,
   "metadata": {},
   "outputs": [
    {
     "data": {
      "text/html": [
       "<div>\n",
       "<style scoped>\n",
       "    .dataframe tbody tr th:only-of-type {\n",
       "        vertical-align: middle;\n",
       "    }\n",
       "\n",
       "    .dataframe tbody tr th {\n",
       "        vertical-align: top;\n",
       "    }\n",
       "\n",
       "    .dataframe thead th {\n",
       "        text-align: right;\n",
       "    }\n",
       "</style>\n",
       "<table border=\"1\" class=\"dataframe\">\n",
       "  <thead>\n",
       "    <tr style=\"text-align: right;\">\n",
       "      <th></th>\n",
       "      <th>Installs</th>\n",
       "      <th>Rating</th>\n",
       "    </tr>\n",
       "    <tr>\n",
       "      <th>App</th>\n",
       "      <th></th>\n",
       "      <th></th>\n",
       "    </tr>\n",
       "  </thead>\n",
       "  <tbody>\n",
       "    <tr>\n",
       "      <td>Subway Surfers</td>\n",
       "      <td>6.000000e+09</td>\n",
       "      <td>27.0</td>\n",
       "    </tr>\n",
       "    <tr>\n",
       "      <td>Temple Run 2</td>\n",
       "      <td>3.000000e+09</td>\n",
       "      <td>25.8</td>\n",
       "    </tr>\n",
       "    <tr>\n",
       "      <td>Candy Crush Saga</td>\n",
       "      <td>3.000000e+09</td>\n",
       "      <td>26.4</td>\n",
       "    </tr>\n",
       "  </tbody>\n",
       "</table>\n",
       "</div>"
      ],
      "text/plain": [
       "                      Installs  Rating\n",
       "App                                   \n",
       "Subway Surfers    6.000000e+09    27.0\n",
       "Temple Run 2      3.000000e+09    25.8\n",
       "Candy Crush Saga  3.000000e+09    26.4"
      ]
     },
     "execution_count": 28,
     "metadata": {},
     "output_type": "execute_result"
    }
   ],
   "source": [
    "top_3_game=google_play_apps[google_play_apps['Category']=='GAME']\n",
    "top_3_game=top_3_game[['App','Installs','Rating']]\n",
    "top_3_game.groupby('App').sum().sort_values('Installs', ascending=False).head(3)"
   ]
  },
  {
   "cell_type": "code",
   "execution_count": null,
   "metadata": {},
   "outputs": [],
   "source": []
  }
 ],
 "metadata": {
  "kernelspec": {
   "display_name": "Python 3",
   "language": "python",
   "name": "python3"
  },
  "language_info": {
   "codemirror_mode": {
    "name": "ipython",
    "version": 3
   },
   "file_extension": ".py",
   "mimetype": "text/x-python",
   "name": "python",
   "nbconvert_exporter": "python",
   "pygments_lexer": "ipython3",
   "version": "3.7.4"
  }
 },
 "nbformat": 4,
 "nbformat_minor": 2
}
